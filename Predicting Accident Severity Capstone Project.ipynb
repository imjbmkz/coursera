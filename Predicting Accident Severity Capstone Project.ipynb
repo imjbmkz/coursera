{
 "cells": [
  {
   "cell_type": "markdown",
   "metadata": {},
   "source": [
    "## Predicting Accident Severity Capstone Project"
   ]
  },
  {
   "cell_type": "markdown",
   "metadata": {},
   "source": [
    "### Table of Contents\n",
    "* [Introduction: The Business Problem](#introduction)\n",
    "* [Data](#data)\n",
    "* [Methodology](#method)\n",
    "* [Results](#results)\n",
    "* [Discussion](#conclusion)"
   ]
  },
  {
   "cell_type": "code",
   "execution_count": 4,
   "metadata": {},
   "outputs": [],
   "source": [
    "{\n",
    "    \"tags\": [\n",
    "        \"hide-input\",\n",
    "    ]\n",
    "}\n",
    "import pandas as pd\n",
    "import numpy as np\n",
    "import matplotlib.pyplot as plt\n",
    "import seaborn as sb\n",
    "from sklearn.preprocessing import StandardScaler\n",
    "from sklearn.model_selection import train_test_split, GridSearchCV\n",
    "from sklearn.linear_model import LogisticRegression\n",
    "from sklearn.neighbors import KNeighborsClassifier\n",
    "from sklearn.metrics import confusion_matrix, accuracy_score, r2_score, classification_report\n",
    "from sklearn.tree import DecisionTreeClassifier\n",
    "%matplotlib inline"
   ]
  },
  {
   "cell_type": "markdown",
   "metadata": {},
   "source": [
    "### Introduction: The Business Problem <a id=\"introduction\"></a>\n",
    "The mission of **Seattle Department of Transportation (SDOT)** is to \"*deliver a transportation system that provides safe and affordable access to places and opportunities*\"<sup>[1]</sup>. One of the many ways to ensure that the mission is being fulfilled is by effectively handling of accidents. The Traffic Management Division of SDOT tracks as many accident details as possible for future references, and potential records for legal purposes. \n",
    "\n",
    "Accidents, of course, are unpredictable. But what if we can try to *somehow* predict the severity of an accident by knowing which factors that could potentially cause it? Having that wisdom can make the drivers, pedestrians, policy owners, transport groups, and SDOT itself to do their part in avoiding such tremendous event, or at least, keep it light. Perhaps, there could be new policies that can be implemented, an enhancement of security systems, traffic infrastructures, etc. Or, to the drivers, perhaps, avoid \"accident-prone\" lanes or roads, or as simple as driving more responsibly. And, for the pedestrians, they could be more aware of the surroundings. \n",
    " \n",
    "There are many benefits that everyone can get from these *usual*<sup>[2]</sup> scenarios that come before accidents. My goal in this project is to use the existing dataset from Traffic Records Group of SDOT Traffic Management Division, clean it, develop and train a model, and test its accuracy to predict the severity of an accident given some physical conditions that we have."
   ]
  },
  {
   "cell_type": "markdown",
   "metadata": {},
   "source": [
    "### Data <a id=\"data\"></a>\n",
    "### Com"
   ]
  },
  {
   "cell_type": "markdown",
   "metadata": {},
   "source": [
    "## Methodology <a id=\"method\"></a>"
   ]
  },
  {
   "cell_type": "markdown",
   "metadata": {},
   "source": [
    "## Results <a id=\"results\"></a>"
   ]
  },
  {
   "cell_type": "markdown",
   "metadata": {},
   "source": [
    "## Discussion <a id=\"discussion\"></a>"
   ]
  },
  {
   "cell_type": "markdown",
   "metadata": {},
   "source": [
    "## Conclusion <a id=\"conclusion\"></a>"
   ]
  },
  {
   "cell_type": "markdown",
   "metadata": {},
   "source": [
    "## Footer\n",
    "<sup>\n",
    "[1] Source: <a href=\"https://www.seattle.gov/transportation/about-us\">https://www.seattle.gov/transportation/about-us</a>\n",
    "<br>\n",
    "[2] Notice the terms I used, like \"<i>somehow</i>\" and \"<i>usual</i>\". These imply that this study can't guarantee a 100% accuracy of its findings. The likelihood of the success of this project depends on the data available and the model that will be used.\n",
    "</sup>"
   ]
  }
 ],
 "metadata": {
  "kernelspec": {
   "display_name": "Python 3",
   "language": "python",
   "name": "python3"
  },
  "language_info": {
   "codemirror_mode": {
    "name": "ipython",
    "version": 3
   },
   "file_extension": ".py",
   "mimetype": "text/x-python",
   "name": "python",
   "nbconvert_exporter": "python",
   "pygments_lexer": "ipython3",
   "version": "3.8.3"
  }
 },
 "nbformat": 4,
 "nbformat_minor": 4
}
